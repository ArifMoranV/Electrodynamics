{
 "cells": [
  {
   "cell_type": "code",
   "execution_count": 9,
   "id": "1cf1e013",
   "metadata": {},
   "outputs": [],
   "source": [
    "using Symbolics\n",
    "using Plots\n",
    "using LinearAlgebra"
   ]
  },
  {
   "cell_type": "code",
   "execution_count": 45,
   "id": "422ecf1c",
   "metadata": {},
   "outputs": [
    {
     "data": {
      "text/latex": [
       "$$ \\begin{equation}\n",
       "\\left[\n",
       "\\begin{array}{c}\n",
       "x \\\\\n",
       "y \\\\\n",
       "z \\\\\n",
       "t \\\\\n",
       "\\end{array}\n",
       "\\right]\n",
       "\\end{equation}\n",
       " $$"
      ],
      "text/plain": [
       "4-element Vector{Num}:\n",
       " x\n",
       " y\n",
       " z\n",
       " t"
      ]
     },
     "execution_count": 45,
     "metadata": {},
     "output_type": "execute_result"
    }
   ],
   "source": [
    "@variables x,y,z,t"
   ]
  },
  {
   "cell_type": "code",
   "execution_count": 46,
   "id": "49af3551",
   "metadata": {},
   "outputs": [
    {
     "data": {
      "text/plain": [
       "50"
      ]
     },
     "execution_count": 46,
     "metadata": {},
     "output_type": "execute_result"
    }
   ],
   "source": [
    "r=[x,y,z]\n",
    "k=r.-2\n",
    "w=1\n",
    "c=50"
   ]
  },
  {
   "cell_type": "code",
   "execution_count": 74,
   "id": "ae1da041",
   "metadata": {},
   "outputs": [
    {
     "data": {
      "text/latex": [
       "$$ \\begin{equation}\n",
       "3 \\cos\\left(  - t + 2 \\left( x \\left( -2 + x \\right) + y \\left( -2 + y \\right) + z \\left( -2 + z \\right) \\right) \\right) + 3 \\sin\\left(  - t + 2 \\left( x \\left( -2 + x \\right) + y \\left( -2 + y \\right) + z \\left( -2 + z \\right) \\right) \\right) \\mathit{i}\n",
       "\\end{equation}\n",
       " $$"
      ],
      "text/plain": [
       "3cos(2(x*(x - 2) + y*(y - 2) + z*(z - 2)) - t) + 3im*sin(2(x*(x - 2) + y*(y - 2) + z*(z - 2)) - t)"
      ]
     },
     "execution_count": 74,
     "metadata": {},
     "output_type": "execute_result"
    }
   ],
   "source": [
    "E=3*exp(im*(2*dot(k,r)-w*t))"
   ]
  },
  {
   "cell_type": "code",
   "execution_count": 79,
   "id": "b0f99124",
   "metadata": {},
   "outputs": [
    {
     "ename": "LoadError",
     "evalue": "type ComplexTerm has no field metadata",
     "output_type": "error",
     "traceback": [
      "type ComplexTerm has no field metadata",
      "",
      "Stacktrace:",
      " [1] getproperty",
      "   @ .\\Base.jl:38 [inlined]",
      " [2] metadata(s::Symbolics.ComplexTerm{Real})",
      "   @ SymbolicUtils C:\\Users\\Arif\\.julia\\packages\\SymbolicUtils\\H684H\\src\\types.jl:599",
      " [3] substitute(expr::Symbolics.ComplexTerm{Real}, dict::Dict{SymbolicUtils.BasicSymbolic{Real}, Int64}; fold::Bool)",
      "   @ SymbolicUtils C:\\Users\\Arif\\.julia\\packages\\SymbolicUtils\\H684H\\src\\substitute.jl:34",
      " [4] substitute",
      "   @ C:\\Users\\Arif\\.julia\\packages\\SymbolicUtils\\H684H\\src\\substitute.jl:16 [inlined]",
      " [5] #16#17",
      "   @ C:\\Users\\Arif\\.julia\\packages\\Symbolics\\3jLt1\\src\\num.jl:87 [inlined]",
      " [6] (::Symbolics.var\"#16#19\"{Symbolics.var\"#16#17#20\"{Dict{SymbolicUtils.BasicSymbolic{Real}, Int64}}})(expr::Symbolics.ComplexTerm{Real})",
      "   @ Symbolics C:\\Users\\Arif\\.julia\\packages\\Symbolics\\3jLt1\\src\\num.jl:87",
      " [7] substitute(expr::Complex{Num}, s::Dict{Num, Int64}; kw::Base.Pairs{Symbol, Union{}, Tuple{}, NamedTuple{(), Tuple{}}})",
      "   @ Symbolics C:\\Users\\Arif\\.julia\\packages\\Symbolics\\3jLt1\\src\\Symbolics.jl:156",
      " [8] substitute(expr::Complex{Num}, s::Dict{Num, Int64})",
      "   @ Symbolics C:\\Users\\Arif\\.julia\\packages\\Symbolics\\3jLt1\\src\\Symbolics.jl:156",
      " [9] top-level scope",
      "   @ In[79]:1"
     ]
    }
   ],
   "source": [
    "substitute(E,Dict(x=>2))"
   ]
  },
  {
   "cell_type": "code",
   "execution_count": 52,
   "id": "85e20cdc",
   "metadata": {},
   "outputs": [
    {
     "data": {
      "text/plain": [
       "RuntimeGeneratedFunction(#=in Symbolics=#, #=using Symbolics=#, :((x, y, z, t)->begin\n",
       "          #= C:\\Users\\Arif\\.julia\\packages\\SymbolicUtils\\H684H\\src\\code.jl:350 =#\n",
       "          #= C:\\Users\\Arif\\.julia\\packages\\SymbolicUtils\\H684H\\src\\code.jl:351 =#\n",
       "          #= C:\\Users\\Arif\\.julia\\packages\\SymbolicUtils\\H684H\\src\\code.jl:352 =#\n",
       "          3exp(-t)*cos(2(x*(x - 2) + y*(y - 2) + z*(z - 2))) + 3im*exp(-t)*sin(2(x*(x - 2) + y*(y - 2) + z*(z - 2)))\n",
       "      end))"
      ]
     },
     "execution_count": 52,
     "metadata": {},
     "output_type": "execute_result"
    }
   ],
   "source": [
    "E1=build_function(E22,x,y,z,t,expression=Val{false})"
   ]
  },
  {
   "cell_type": "code",
   "execution_count": 53,
   "id": "d8b293d6",
   "metadata": {},
   "outputs": [
    {
     "data": {
      "text/latex": [
       "$$ \\begin{equation}\n",
       "3 e^{ - t} \\cos\\left( 2 \\left( x \\left( -2 + x \\right) + y \\left( -2 + y \\right) + z \\left( -2 + z \\right) \\right) \\right)\n",
       "\\end{equation}\n",
       " $$"
      ],
      "text/plain": [
       "3exp(-t)*cos(2(x*(x - 2) + y*(y - 2) + z*(z - 2)))"
      ]
     },
     "execution_count": 53,
     "metadata": {},
     "output_type": "execute_result"
    }
   ],
   "source": [
    "real(E1.(2,1,1,6))"
   ]
  },
  {
   "cell_type": "code",
   "execution_count": 43,
   "id": "0eb382fc",
   "metadata": {},
   "outputs": [
    {
     "data": {
      "text/plain": [
       "0.0:0.6981317007977318:6.283185307179586"
      ]
     },
     "execution_count": 43,
     "metadata": {},
     "output_type": "execute_result"
    }
   ],
   "source": [
    "X=range(0,2*pi,length=10)\n"
   ]
  },
  {
   "cell_type": "code",
   "execution_count": 44,
   "id": "d0f610f0",
   "metadata": {},
   "outputs": [
    {
     "data": {
      "text/latex": [
       "$$ \\begin{equation}\n",
       "\\left[\n",
       "\\begin{array}{c}\n",
       "3 e^{ - t} \\cos\\left( 2 \\left( x \\left( -2 + x \\right) + y \\left( -2 + y \\right) + z \\left( -2 + z \\right) \\right) \\right) + 3 e^{ - t} \\sin\\left( 2 \\left( x \\left( -2 + x \\right) + y \\left( -2 + y \\right) + z \\left( -2 + z \\right) \\right) \\right) \\mathit{i} \\\\\n",
       "3 e^{ - t} \\cos\\left( 2 \\left( x \\left( -2 + x \\right) + y \\left( -2 + y \\right) + z \\left( -2 + z \\right) \\right) \\right) + 3 e^{ - t} \\sin\\left( 2 \\left( x \\left( -2 + x \\right) + y \\left( -2 + y \\right) + z \\left( -2 + z \\right) \\right) \\right) \\mathit{i} \\\\\n",
       "3 e^{ - t} \\cos\\left( 2 \\left( x \\left( -2 + x \\right) + y \\left( -2 + y \\right) + z \\left( -2 + z \\right) \\right) \\right) + 3 e^{ - t} \\sin\\left( 2 \\left( x \\left( -2 + x \\right) + y \\left( -2 + y \\right) + z \\left( -2 + z \\right) \\right) \\right) \\mathit{i} \\\\\n",
       "3 e^{ - t} \\cos\\left( 2 \\left( x \\left( -2 + x \\right) + y \\left( -2 + y \\right) + z \\left( -2 + z \\right) \\right) \\right) + 3 e^{ - t} \\sin\\left( 2 \\left( x \\left( -2 + x \\right) + y \\left( -2 + y \\right) + z \\left( -2 + z \\right) \\right) \\right) \\mathit{i} \\\\\n",
       "3 e^{ - t} \\cos\\left( 2 \\left( x \\left( -2 + x \\right) + y \\left( -2 + y \\right) + z \\left( -2 + z \\right) \\right) \\right) + 3 e^{ - t} \\sin\\left( 2 \\left( x \\left( -2 + x \\right) + y \\left( -2 + y \\right) + z \\left( -2 + z \\right) \\right) \\right) \\mathit{i} \\\\\n",
       "3 e^{ - t} \\cos\\left( 2 \\left( x \\left( -2 + x \\right) + y \\left( -2 + y \\right) + z \\left( -2 + z \\right) \\right) \\right) + 3 e^{ - t} \\sin\\left( 2 \\left( x \\left( -2 + x \\right) + y \\left( -2 + y \\right) + z \\left( -2 + z \\right) \\right) \\right) \\mathit{i} \\\\\n",
       "3 e^{ - t} \\cos\\left( 2 \\left( x \\left( -2 + x \\right) + y \\left( -2 + y \\right) + z \\left( -2 + z \\right) \\right) \\right) + 3 e^{ - t} \\sin\\left( 2 \\left( x \\left( -2 + x \\right) + y \\left( -2 + y \\right) + z \\left( -2 + z \\right) \\right) \\right) \\mathit{i} \\\\\n",
       "3 e^{ - t} \\cos\\left( 2 \\left( x \\left( -2 + x \\right) + y \\left( -2 + y \\right) + z \\left( -2 + z \\right) \\right) \\right) + 3 e^{ - t} \\sin\\left( 2 \\left( x \\left( -2 + x \\right) + y \\left( -2 + y \\right) + z \\left( -2 + z \\right) \\right) \\right) \\mathit{i} \\\\\n",
       "3 e^{ - t} \\cos\\left( 2 \\left( x \\left( -2 + x \\right) + y \\left( -2 + y \\right) + z \\left( -2 + z \\right) \\right) \\right) + 3 e^{ - t} \\sin\\left( 2 \\left( x \\left( -2 + x \\right) + y \\left( -2 + y \\right) + z \\left( -2 + z \\right) \\right) \\right) \\mathit{i} \\\\\n",
       "3 e^{ - t} \\cos\\left( 2 \\left( x \\left( -2 + x \\right) + y \\left( -2 + y \\right) + z \\left( -2 + z \\right) \\right) \\right) + 3 e^{ - t} \\sin\\left( 2 \\left( x \\left( -2 + x \\right) + y \\left( -2 + y \\right) + z \\left( -2 + z \\right) \\right) \\right) \\mathit{i} \\\\\n",
       "\\end{array}\n",
       "\\right]\n",
       "\\end{equation}\n",
       " $$"
      ],
      "text/plain": [
       "10-element Vector{Complex{Num}}:\n",
       " 3exp(-t)*cos(2(x*(x - 2) + y*(y - 2) + z*(z - 2))) + 3im*exp(-t)*sin(2(x*(x - 2) + y*(y - 2) + z*(z - 2)))\n",
       " 3exp(-t)*cos(2(x*(x - 2) + y*(y - 2) + z*(z - 2))) + 3im*exp(-t)*sin(2(x*(x - 2) + y*(y - 2) + z*(z - 2)))\n",
       " 3exp(-t)*cos(2(x*(x - 2) + y*(y - 2) + z*(z - 2))) + 3im*exp(-t)*sin(2(x*(x - 2) + y*(y - 2) + z*(z - 2)))\n",
       " 3exp(-t)*cos(2(x*(x - 2) + y*(y - 2) + z*(z - 2))) + 3im*exp(-t)*sin(2(x*(x - 2) + y*(y - 2) + z*(z - 2)))\n",
       " 3exp(-t)*cos(2(x*(x - 2) + y*(y - 2) + z*(z - 2))) + 3im*exp(-t)*sin(2(x*(x - 2) + y*(y - 2) + z*(z - 2)))\n",
       " 3exp(-t)*cos(2(x*(x - 2) + y*(y - 2) + z*(z - 2))) + 3im*exp(-t)*sin(2(x*(x - 2) + y*(y - 2) + z*(z - 2)))\n",
       " 3exp(-t)*cos(2(x*(x - 2) + y*(y - 2) + z*(z - 2))) + 3im*exp(-t)*sin(2(x*(x - 2) + y*(y - 2) + z*(z - 2)))\n",
       " 3exp(-t)*cos(2(x*(x - 2) + y*(y - 2) + z*(z - 2))) + 3im*exp(-t)*sin(2(x*(x - 2) + y*(y - 2) + z*(z - 2)))\n",
       " 3exp(-t)*cos(2(x*(x - 2) + y*(y - 2) + z*(z - 2))) + 3im*exp(-t)*sin(2(x*(x - 2) + y*(y - 2) + z*(z - 2)))\n",
       " 3exp(-t)*cos(2(x*(x - 2) + y*(y - 2) + z*(z - 2))) + 3im*exp(-t)*sin(2(x*(x - 2) + y*(y - 2) + z*(z - 2)))"
      ]
     },
     "execution_count": 44,
     "metadata": {},
     "output_type": "execute_result"
    }
   ],
   "source": [
    "\n",
    "E1.(X,0,0,0)"
   ]
  },
  {
   "cell_type": "code",
   "execution_count": null,
   "id": "05cc3a1d",
   "metadata": {},
   "outputs": [],
   "source": []
  }
 ],
 "metadata": {
  "kernelspec": {
   "display_name": "Julia 1.8.5",
   "language": "julia",
   "name": "julia-1.8"
  },
  "language_info": {
   "file_extension": ".jl",
   "mimetype": "application/julia",
   "name": "julia",
   "version": "1.8.5"
  }
 },
 "nbformat": 4,
 "nbformat_minor": 5
}
